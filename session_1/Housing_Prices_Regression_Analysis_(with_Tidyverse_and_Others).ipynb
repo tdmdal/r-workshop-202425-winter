{
  "nbformat": 4,
  "nbformat_minor": 0,
  "metadata": {
    "kernelspec": {
      "display_name": "R",
      "language": "R",
      "name": "ir"
    },
    "language_info": {
      "codemirror_mode": "r",
      "file_extension": ".r",
      "mimetype": "text/x-r-source",
      "name": "R",
      "pygments_lexer": "r",
      "version": "3.5.0"
    },
    "colab": {
      "provenance": []
    }
  },
  "cells": [
    {
      "cell_type": "markdown",
      "metadata": {
        "id": "a9851aPLtFxK"
      },
      "source": [
        "# 1 Data Import and Manipulation\n",
        "\n",
        "We first import a dataset from a Github repo of our lab. This is a dataset on housing prices and air pollution in [Harrison & Rubinfeld (1978)](https://www.sciencedirect.com/science/article/pii/0095069678900062). The dataset is also used throughout an undergraduate econometrics text book by Wooldridge: *Introductory Econometrics: A Modern Approach*. (There is a R package ([wooldridge](https://justinmshea.github.io/wooldridge/index.html)) that collects all the datasets used in that book.)\n",
        "\n",
        "After briefly inspecting the data, we prepare the dataset for modeling. We then conduct some linear regression analysis.\n",
        "\n",
        "We will use the [Tidyverse](https://www.tidyverse.org/) way of handling the data, so let's first load the library. Tidyverse consists a set of libraries for Data Science (mostly for data manipulation)."
      ]
    },
    {
      "cell_type": "code",
      "source": [
        "library(tidyverse)"
      ],
      "metadata": {
        "id": "B-8Yv-pfWPqh"
      },
      "execution_count": null,
      "outputs": []
    },
    {
      "cell_type": "markdown",
      "source": [
        "We will also need a few other libraries for plotting (some of them ggplot2 extensions) and creating tables."
      ],
      "metadata": {
        "id": "DWpmjcxkwPrG"
      }
    },
    {
      "cell_type": "code",
      "source": [
        "# install a few ggplot related packages if they are not already installed\n",
        "if (!require(GGally)) install.packages(\"GGally\")\n",
        "if (!require(gridExtra)) install.packages(\"gridExtra\")\n",
        "if (!require(ggthemes)) install.packages(\"ggthemes\")\n",
        "if (!require(ggfortify)) install.packages(\"ggfortify\")\n",
        "\n",
        "# install a table creation package if it's not already installed\n",
        "if (!require(huxtable)) install.packages(\"huxtable\")\n",
        "\n",
        "# load them\n",
        "library(GGally)\n",
        "library(gridExtra)\n",
        "library(ggthemes)\n",
        "library(ggfortify)\n",
        "\n",
        "library(huxtable)"
      ],
      "metadata": {
        "id": "8Uu_XBcBbJUf"
      },
      "execution_count": null,
      "outputs": []
    },
    {
      "cell_type": "markdown",
      "source": [
        "## 1.1 Data Import"
      ],
      "metadata": {
        "id": "T493aL1vwbTD"
      }
    },
    {
      "cell_type": "code",
      "metadata": {
        "id": "_Fb_txBt_y_J"
      },
      "source": [
        "# load data\n",
        "data_url <- \"https://github.com/tdmdal/datasets-teaching/raw/main/hprice/hprice.csv\"\n",
        "\n",
        "# your code here\n"
      ],
      "execution_count": null,
      "outputs": []
    },
    {
      "cell_type": "markdown",
      "source": [
        "`hprice` is a tibble, which is basically R’s traditional `data.frame` with a few extra things. See [here](https://r4ds.had.co.nz/tibbles.html) for details."
      ],
      "metadata": {
        "id": "X_FDTwiO0jpP"
      }
    },
    {
      "cell_type": "markdown",
      "source": [
        "## 1.2 Quick Inspection\n",
        "\n",
        "Let's quickly inspect the data. By no means the data exploration done here is complete and thorough."
      ],
      "metadata": {
        "id": "GYCHmtXcwl85"
      }
    },
    {
      "cell_type": "code",
      "metadata": {
        "id": "V138ixeH_y_S"
      },
      "source": [
        "# take a look at the structure of the data\n",
        "glimpse(hprice)"
      ],
      "execution_count": null,
      "outputs": []
    },
    {
      "cell_type": "markdown",
      "metadata": {
        "id": "vZqiTW3388-G"
      },
      "source": [
        "Data Dictionary ([Source](http://fmwww.bc.edu/ec-p/data/wooldridge/hprice2.des))\n",
        "\n",
        "| Variable    | Description                         |\n",
        "|-------------|-------------------------------------|\n",
        "| 1. price    | median housing price, \\$            |\n",
        "| 2. crime    | crimes committed per capita         |\n",
        "| 3. nox      | nitrous oxide, parts per 100 mill.  |\n",
        "| 4. rooms    | avg number of rooms per house       |\n",
        "| 5. dist     | weighted dist. to 5 employ centers  |\n",
        "| 6. radial   | accessibiliy index to radial hghwys |\n",
        "| 7. proptax  | property tax per $1000              |\n",
        "| 8. stratio  | average student-teacher ratio       |\n",
        "| 9. lowstat  | % of people 'lower status'          |\n",
        "\n"
      ]
    },
    {
      "cell_type": "code",
      "source": [
        "# str can still be useful\n",
        "str(hprice)"
      ],
      "metadata": {
        "id": "m9lXZNyLYAhZ"
      },
      "execution_count": null,
      "outputs": []
    },
    {
      "cell_type": "code",
      "metadata": {
        "id": "_2aBKG0B_y_X"
      },
      "source": [
        "# print the first few rows of the dataset\n",
        "head(hprice)"
      ],
      "execution_count": null,
      "outputs": []
    },
    {
      "cell_type": "code",
      "source": [
        "# summary statistics\n",
        "summary(hprice)"
      ],
      "metadata": {
        "id": "mmR3uYR0Y8fV"
      },
      "execution_count": null,
      "outputs": []
    },
    {
      "cell_type": "markdown",
      "source": [
        "Let's focus on `price`, `nox`, `rooms` and `stratio` for this analysis."
      ],
      "metadata": {
        "id": "dBZGPqL8-T4q"
      }
    },
    {
      "cell_type": "code",
      "source": [
        "# pairwise scatter plot and correlation; density plot of each variable\n",
        "# http://ggobi.github.io/ggally/articles/ggpairs.html\n",
        "ggpairs(hprice[c(\"price\", \"nox\", \"rooms\", \"stratio\")])\n",
        "\n",
        "# you could try a different theme from ggthemes\n",
        "# ggpairs(hprice[c(\"price\", \"nox\", \"rooms\", \"stratio\")]) + theme_wsj()\n",
        "# ggpairs(hprice[c(\"price\", \"nox\", \"rooms\", \"stratio\")]) + theme_economist()"
      ],
      "metadata": {
        "id": "r-HuQcu3x_5B"
      },
      "execution_count": null,
      "outputs": []
    },
    {
      "cell_type": "code",
      "source": [
        "# histogram and boxplot for price and log price\n",
        "p1 <- ggplot(hprice, aes(x=price)) + geom_histogram()\n",
        "p2 <- ggplot(hprice, aes(x=log(price))) + geom_histogram()\n",
        "p3 <- ggplot(hprice, aes(x=price)) + geom_boxplot()\n",
        "p4 <- ggplot(hprice, aes(x=log(price))) + geom_boxplot()\n",
        "grid.arrange(p1, p2, p3, p4, ncol=2)"
      ],
      "metadata": {
        "id": "4rgvKdTjdZ2v"
      },
      "execution_count": null,
      "outputs": []
    },
    {
      "cell_type": "code",
      "source": [
        "# histogram and boxplot for nox and log nox\n",
        "# try a different themem\n",
        "p1 <- ggplot(hprice, aes(x=nox)) + geom_histogram() + theme_fivethirtyeight()\n",
        "p2 <- ggplot(hprice, aes(x=log(nox))) + geom_histogram() + theme_fivethirtyeight()\n",
        "p3 <- ggplot(hprice, aes(x=nox)) + geom_boxplot() + theme_fivethirtyeight()\n",
        "p4 <- ggplot(hprice, aes(x=log(nox))) + geom_boxplot() + theme_fivethirtyeight()\n",
        "grid.arrange(p1, p2, p3, p4, ncol=2)"
      ],
      "metadata": {
        "id": "QqFkTOSb_-Tu"
      },
      "execution_count": null,
      "outputs": []
    },
    {
      "cell_type": "markdown",
      "source": [
        "## 1.3 Data Manipulation (Preparation for Modeling)\n",
        "\n",
        "Manipulating the dataframe (tibble) using the Tidyverse way. See [here](https://dplyr.tidyverse.org/articles/base.html) for a comparison between Tidyverse's dplyr approach and base R approach."
      ],
      "metadata": {
        "id": "d2LsD453w6em"
      }
    },
    {
      "cell_type": "code",
      "source": [
        "# get rid of price outliners (outside 5th to 95th percentile)\n",
        "# create log price and log nox\n",
        "# your code here\n"
      ],
      "metadata": {
        "id": "yxTS0ZrKCrPb"
      },
      "execution_count": null,
      "outputs": []
    },
    {
      "cell_type": "markdown",
      "metadata": {
        "id": "iltXOxDyt8uD"
      },
      "source": [
        "# 2 Modelling\n",
        "\n",
        "We will start by runing a simple regression to investigate the effect of air pollution on housing price.\n",
        "\n",
        "$log(price) = \\beta_0 + \\beta_1log(nox) + u$."
      ]
    },
    {
      "cell_type": "code",
      "metadata": {
        "id": "L9nHLj68C9U4"
      },
      "source": [
        "# setup and run a simple regression model\n",
        "# your code here\n"
      ],
      "execution_count": null,
      "outputs": []
    },
    {
      "cell_type": "markdown",
      "source": [
        "Let's run a mulitple regression to investigate the effect of air pollution on housing price, but this time we control for rooms (and rooms squared) and student-teacher ratio.\n",
        "\n",
        "$log(price) = \\beta_0 + \\beta_1log(nox) + \\beta_2rooms + \\beta_2rooms^2 + \\beta_4stratio + u$."
      ],
      "metadata": {
        "id": "1GD7TsesGCBj"
      }
    },
    {
      "cell_type": "code",
      "source": [
        "# setup and run a multiple regression model\n",
        "# your code here\n"
      ],
      "metadata": {
        "id": "MMYCplqJF0hZ"
      },
      "execution_count": null,
      "outputs": []
    },
    {
      "cell_type": "markdown",
      "metadata": {
        "id": "jpTzhDU8uNEc"
      },
      "source": [
        "# 3 Report & Graph\n",
        "\n",
        "We report the regression result, and plot a few graphs."
      ]
    },
    {
      "cell_type": "markdown",
      "source": [
        "## 3.1 Report"
      ],
      "metadata": {
        "id": "2rWpvp3HMHRl"
      }
    },
    {
      "cell_type": "code",
      "source": [
        "# report results from two regression models in a single summary table\n",
        "# your code here\n"
      ],
      "metadata": {
        "id": "SGNtmqStq4Yc"
      },
      "execution_count": null,
      "outputs": []
    },
    {
      "cell_type": "markdown",
      "source": [
        "## 3.2 Graphs"
      ],
      "metadata": {
        "id": "gpiPiyrdMKKK"
      }
    },
    {
      "cell_type": "code",
      "metadata": {
        "id": "whXlXzX5FQnE"
      },
      "source": [
        "# plot data and regression line for the simple regression\n",
        "ggplot(hprice_reg, aes(lnox, lprice)) +\n",
        "  geom_point() +\n",
        "  geom_smooth(method = \"lm\")"
      ],
      "execution_count": null,
      "outputs": []
    },
    {
      "cell_type": "markdown",
      "source": [
        "Plot a few diagnositic plots. See [here](https://data.library.virginia.edu/diagnostic-plots/) for what they are for."
      ],
      "metadata": {
        "id": "_32chrvnQqie"
      }
    },
    {
      "cell_type": "code",
      "source": [
        "# plot a few post regression Diagnostic Plots for the simple regression\n",
        "autoplot(lr)"
      ],
      "metadata": {
        "id": "XdMp1BLkvlRs"
      },
      "execution_count": null,
      "outputs": []
    },
    {
      "cell_type": "code",
      "metadata": {
        "id": "EDc6aVaPOaxN"
      },
      "source": [
        "# plot a few post regression Diagnostic Plots for the mulitple regression\n",
        "# try a different theme\n",
        "autoplot(lr_multiple) + theme_economist()"
      ],
      "execution_count": null,
      "outputs": []
    },
    {
      "cell_type": "code",
      "source": [],
      "metadata": {
        "id": "LdgX_lfgJ2W2"
      },
      "execution_count": null,
      "outputs": []
    }
  ]
}