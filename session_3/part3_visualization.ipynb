{
  "nbformat": 4,
  "nbformat_minor": 0,
  "metadata": {
    "jupytext": {
      "cell_metadata_filter": "warning,-all",
      "notebook_metadata_filter": "-all",
      "text_representation": {
        "extension": ".Rmd",
        "format_name": "rmarkdown"
      }
    },
    "kernelspec": {
      "display_name": "R",
      "language": "R",
      "name": "ir"
    },
    "language_info": {
      "codemirror_mode": "r",
      "file_extension": ".r",
      "mimetype": "text/x-r-source",
      "name": "R",
      "pygments_lexer": "r",
      "version": "3.6.1"
    },
    "colab": {
      "provenance": [],
      "toc_visible": true
    }
  },
  "cells": [
    {
      "cell_type": "markdown",
      "metadata": {
        "id": "1LjoleJ58vQb"
      },
      "source": [
        "# 1 `plot()` from base R\n",
        "\n",
        "There are numerous approaches to plot graphs in R. The base R provides many basic plot functions. Let's try a few simple plots."
      ]
    },
    {
      "cell_type": "code",
      "metadata": {
        "id": "GQyeLiPC8vQj"
      },
      "source": [
        "# cars is a built-in dataset (data frame)\n",
        "print(head(cars))"
      ],
      "execution_count": null,
      "outputs": []
    },
    {
      "cell_type": "markdown",
      "metadata": {
        "id": "YA-GB6Tw8vQ3"
      },
      "source": [
        "`plot()` is a so-called \"generic\" function. A generic function behaves differently depending on the objects (e.g. data structures) it takes in. In this case, `plot()` plots different type of graphs depending on its input. (More precisely, `plot()` is a method associated with the input object's class.)"
      ]
    },
    {
      "cell_type": "code",
      "metadata": {
        "id": "S1CMw0sI8vQ6"
      },
      "source": [
        "# plot() takes in x- and y- axis\n",
        "plot(cars$dist, cars$speed)"
      ],
      "execution_count": null,
      "outputs": []
    },
    {
      "cell_type": "code",
      "metadata": {
        "id": "c3iQtIv48vRG"
      },
      "source": [
        "# plot() takes in a dataframe, which in this case only have 2 variables/columns\n",
        "plot(cars)"
      ],
      "execution_count": null,
      "outputs": []
    },
    {
      "cell_type": "code",
      "metadata": {
        "id": "KQdQ32278vRR"
      },
      "source": [
        "# iris is another built-in dataset\n",
        "print(head(iris))"
      ],
      "execution_count": null,
      "outputs": []
    },
    {
      "cell_type": "code",
      "metadata": {
        "id": "dHpdl6zs8vRb"
      },
      "source": [
        "# plot() takes in a dataframe with many variables/columns\n",
        "plot(iris)"
      ],
      "execution_count": null,
      "outputs": []
    },
    {
      "cell_type": "markdown",
      "metadata": {
        "id": "GM8lt1f88vRl"
      },
      "source": [
        "`hist()` is another generic function to plot simple histogram."
      ]
    },
    {
      "cell_type": "code",
      "metadata": {
        "id": "6s9XTtEt8vRo"
      },
      "source": [
        "hist(cars$speed)"
      ],
      "execution_count": null,
      "outputs": []
    },
    {
      "cell_type": "markdown",
      "metadata": {
        "id": "z1NVQGym8vRv"
      },
      "source": [
        "Customize the histogram plot."
      ]
    },
    {
      "cell_type": "code",
      "metadata": {
        "id": "7dtxU-mA8vR0"
      },
      "source": [
        "hist(cars$speed,\n",
        "     main=\"Histogram for Car Speed\",\n",
        "     xlab=\"Car Speed (mph)\",\n",
        "     border=\"pink\",\n",
        "     col=\"deeppink\",\n",
        "     breaks=8) # suggesting number of cells/bins"
      ],
      "execution_count": null,
      "outputs": []
    },
    {
      "cell_type": "markdown",
      "source": [
        "I'll leave you to explore base R plot yourself. [Here](http://rpubs.com/SusanEJohnston/7953) is a good start."
      ],
      "metadata": {
        "id": "Ot6C9LgS59TA"
      }
    },
    {
      "cell_type": "markdown",
      "metadata": {
        "id": "PL3sHhTr8vR-"
      },
      "source": [
        "# 2 `ggplot()`\n",
        "\n",
        "Today we will focus on learning `ggplot()` from the `ggplot2` package, a powerful R plotting package based on [the grammar of graphics](http://vita.had.co.nz/papers/layered-grammar.html). The idea is that\n",
        "\n",
        ">\"you can build every graph from the same components: a data set, a coordinate system, and geoms--visual marks that represent data points\"   -- ggplot2 [cheat sheet](https://rstudio.github.io/cheatsheets/html/data-visualization.html).\n",
        "\n",
        "The grammar of graphics enables us to concisely describe the components of a plot.\n",
        "\n",
        "Let's learn `ggplot()` using an example. (This example is inspired and built upon this [notebook](http://remi-daigle.github.io/2016-04-15-UCSB/viz)).\n",
        "\n",
        "First, load a few packages."
      ]
    },
    {
      "cell_type": "code",
      "metadata": {
        "id": "n1y-5OY2813n"
      },
      "source": [
        "# run this cell to install two packages we will use today\n",
        "if (!require(gapminder)) install.packages(\"gapminder\")\n",
        "if (!require(ggrepel)) install.packages(\"ggrepel\")"
      ],
      "execution_count": null,
      "outputs": []
    },
    {
      "cell_type": "code",
      "metadata": {
        "warning": false,
        "id": "t1qRcywb8vSA"
      },
      "source": [
        "# for data manipulation\n",
        "library(dplyr)\n",
        "\n",
        "# the plotting package\n",
        "library(ggplot2)\n",
        "\n",
        "# gapminder contains the data we will use for our plot\n",
        "library(gapminder)"
      ],
      "execution_count": null,
      "outputs": []
    },
    {
      "cell_type": "markdown",
      "metadata": {
        "id": "ge_Nhrhc8vSJ"
      },
      "source": [
        "Let's take a quick look at the gapminder dataset."
      ]
    },
    {
      "cell_type": "code",
      "metadata": {
        "lines_to_next_cell": 2,
        "id": "hZXOfWDc8vSM"
      },
      "source": [
        "print(head(gapminder))"
      ],
      "execution_count": null,
      "outputs": []
    },
    {
      "cell_type": "code",
      "metadata": {
        "id": "mYtDF3YN8vSX"
      },
      "source": [
        "summary(gapminder)"
      ],
      "execution_count": null,
      "outputs": []
    },
    {
      "cell_type": "markdown",
      "metadata": {
        "id": "698Ggbx38vSe"
      },
      "source": [
        "We will only use data from the most recent year in gapminder."
      ]
    },
    {
      "cell_type": "code",
      "metadata": {
        "warning": false,
        "id": "oT0h9sme8vSh"
      },
      "source": [
        "# get data from the most recent year\n",
        "g_data <- gapminder %>%\n",
        "  filter(year == 2007)\n",
        "print(head(g_data))"
      ],
      "execution_count": null,
      "outputs": []
    },
    {
      "cell_type": "markdown",
      "metadata": {
        "id": "bzUcmkss8vSq"
      },
      "source": [
        "Let's understand in general how `ggplot()` works: a layer-by-layer approach (see slides).\n",
        "\n",
        "Now, let's plot `lifeExp` against `gdpPercap` (scatter plot)."
      ]
    },
    {
      "cell_type": "code",
      "metadata": {
        "id": "U00ST07T8vSs"
      },
      "source": [
        "# scatterplot of life expectancy vs GDP per capita\n",
        "ggplot(g_data, aes(x = gdpPercap, y = lifeExp)) +\n",
        "  geom_point()"
      ],
      "execution_count": null,
      "outputs": []
    },
    {
      "cell_type": "markdown",
      "metadata": {
        "id": "pl3qe8A88vS0"
      },
      "source": [
        "What will you do if you want to connect those dots (i.e. make it a line plot)? This is just for exercise. Obviously it doesn't make too much sense to connect those dots."
      ]
    },
    {
      "cell_type": "code",
      "metadata": {
        "id": "FLqY8fxE8vS5"
      },
      "source": [
        "# your code here\n"
      ],
      "execution_count": null,
      "outputs": []
    },
    {
      "cell_type": "markdown",
      "metadata": {
        "id": "7VVReCzC8vS_"
      },
      "source": [
        "What if you want to color the points in Rotman \"deeppink\"?"
      ]
    },
    {
      "cell_type": "code",
      "metadata": {
        "id": "FPp-xBjP8vTA"
      },
      "source": [
        "# your code here\n"
      ],
      "execution_count": null,
      "outputs": []
    },
    {
      "cell_type": "markdown",
      "metadata": {
        "id": "zND3XtsI8vTJ"
      },
      "source": [
        "What if you want to label the dots by country name? Does the picture look nice? What did you find out?"
      ]
    },
    {
      "cell_type": "code",
      "metadata": {
        "id": "gahv2NW18vTL"
      },
      "source": [
        "# your code here\n"
      ],
      "execution_count": null,
      "outputs": []
    },
    {
      "cell_type": "markdown",
      "metadata": {
        "id": "exF8991d8vTR"
      },
      "source": [
        "How to make the size of the points proportional to country population (`pop`)?"
      ]
    },
    {
      "cell_type": "code",
      "metadata": {
        "id": "tcETaOYv8vTT"
      },
      "source": [
        "# your code here\n"
      ],
      "execution_count": null,
      "outputs": []
    },
    {
      "cell_type": "markdown",
      "metadata": {
        "id": "2HXQq43e8vTc"
      },
      "source": [
        "In addition, can you color the points by continent (i.e. no more Rotman \"deeppink\")?"
      ]
    },
    {
      "cell_type": "code",
      "metadata": {
        "id": "1j7IWcak8vTg"
      },
      "source": [
        "# your code here\n"
      ],
      "execution_count": null,
      "outputs": []
    },
    {
      "cell_type": "markdown",
      "metadata": {
        "id": "y3skDxsI8vTp"
      },
      "source": [
        "Can you add plot title and x- and y-axis title? Hint: add `labs(title = 'my title')` and `labs(x = \"x title\", y = \"y title\")` layers. At the same time, make the dots a bit lighter (`alpha` of the `geom_point()`)"
      ]
    },
    {
      "cell_type": "code",
      "metadata": {
        "id": "XPvFD3Zk8vTr"
      },
      "source": [
        "# your code here\n"
      ],
      "execution_count": null,
      "outputs": []
    },
    {
      "cell_type": "markdown",
      "metadata": {
        "id": "SewhQl4d8vTv"
      },
      "source": [
        "OK. Let's do a few more things together.\n",
        "\n",
        "1. improve the legend title\n",
        "2. make the population in million (M)\n",
        "3. move the plot title to the middle\n",
        "4. format x-axis tick with comma_format"
      ]
    },
    {
      "cell_type": "code",
      "metadata": {
        "id": "4FEdy_RP8vTx"
      },
      "source": [
        "library(scales)\n",
        "gapminder %>%\n",
        "  filter(year == 2007) %>%\n",
        "  mutate(pop_m = pop / 1e6) %>% #population in million\n",
        "  ggplot(aes(x = gdpPercap, y = lifeExp)) +\n",
        "    geom_point(aes(size = pop_m, color = continent), alpha = 0.5) +\n",
        "    scale_x_continuous(labels = comma_format()) + #x-axis label comma format\n",
        "    labs(title = 'Health & Wealth of Nations for 2007') +\n",
        "    labs(x = \"GDP per capita ($/year)\", y = \"Life expectancy (years)\") +\n",
        "    labs(color = \"Continent\", size = \"Population (M)\") + #legend title\n",
        "    theme(plot.title = element_text(hjust = 0.5)) #center the plot title"
      ],
      "execution_count": null,
      "outputs": []
    },
    {
      "cell_type": "markdown",
      "metadata": {
        "id": "dabSLOnu8vT7"
      },
      "source": [
        "Just for an exercise, let's find Canada and label it."
      ]
    },
    {
      "cell_type": "code",
      "metadata": {
        "id": "FuKpOH8G8vT8"
      },
      "source": [
        "# add Canada label\n",
        "gapminder %>%\n",
        "  filter(year == 2007) %>%\n",
        "  mutate(pop_m = pop / 1e6) %>%\n",
        "  ggplot(aes(x = gdpPercap, y = lifeExp)) +\n",
        "    geom_point(aes(size = pop_m, color = continent), alpha = 0.5) +\n",
        "    geom_text(data = filter(gapminder, country == \"Canada\" & year == 2007), aes(label = country)) +\n",
        "    scale_x_continuous(labels = comma_format()) +\n",
        "    labs(title = 'Health & Wealth of Nations for 2007') +\n",
        "    labs(x = \"GDP per capita ($/year)\", y = \"Life expectancy (years)\") +\n",
        "    labs(color = \"Continent\", size = \"Population (M)\") +\n",
        "    theme(plot.title = element_text(hjust = 0.5))"
      ],
      "execution_count": null,
      "outputs": []
    },
    {
      "cell_type": "markdown",
      "metadata": {
        "id": "1G9LvVUR8vUB"
      },
      "source": [
        "The default label couldn't clearly identify the dot for Canada. Let's use the [ggrepel](https://cran.r-project.org/web/packages/ggrepel/vignettes/ggrepel.html) package to improve the labeling."
      ]
    },
    {
      "cell_type": "code",
      "metadata": {
        "id": "pDzgzbEG8vUC"
      },
      "source": [
        "library(ggrepel)\n",
        "gapminder %>%\n",
        "  filter(year == 2007) %>%\n",
        "  mutate(pop_m = pop / 1e6) %>%\n",
        "  ggplot(aes(x = gdpPercap, y = lifeExp)) +\n",
        "    geom_point(aes(size = pop_m, color = continent), alpha = 0.5) +\n",
        "    geom_text_repel(\n",
        "      data = filter(gapminder, country == \"Canada\" & year == 2007),\n",
        "      aes(label = country),\n",
        "      nudge_x = 5000,\n",
        "      nudge_y = -10) +\n",
        "    scale_x_continuous(labels = comma_format()) +\n",
        "    labs(title = 'Health & Wealth of Nations for 2007') +\n",
        "    labs(x = \"GDP per capita ($/year)\", y = \"Life expectancy (years)\") +\n",
        "    labs(color = \"Continent\", size = \"Population (M)\") +\n",
        "    theme(plot.title = element_text(hjust = 0.5))"
      ],
      "execution_count": null,
      "outputs": []
    },
    {
      "cell_type": "markdown",
      "metadata": {
        "id": "kafF0lcn8vUJ"
      },
      "source": [
        "Let's make the x-axis in log scale."
      ]
    },
    {
      "cell_type": "code",
      "metadata": {
        "id": "w8lXBXFT8vUM"
      },
      "source": [
        "# log\n",
        "gapminder %>%\n",
        "  filter(year == 2007) %>%\n",
        "  mutate(pop_m = pop / 1e6) %>%\n",
        "  ggplot(aes(x = gdpPercap, y = lifeExp)) +\n",
        "    geom_point(aes(size = pop_m, color = continent), alpha = 0.5) +\n",
        "    geom_text_repel(\n",
        "      data = filter(gapminder, country == \"Canada\" & year == 2007),\n",
        "      aes(label = country),\n",
        "      nudge_x = log10(3),\n",
        "      nudge_y = -10) +\n",
        "    scale_x_continuous(labels = comma_format(), trans = 'log10') +\n",
        "    labs(title = 'Health & Wealth of Nations for 2007') +\n",
        "    labs(x = \"GDP per capita ($/year)\", y = \"Life expectancy (years)\") +\n",
        "    labs(color = \"Continent\", size = \"Population (M)\") +\n",
        "    theme(plot.title = element_text(hjust = 0.5))"
      ],
      "execution_count": null,
      "outputs": []
    },
    {
      "cell_type": "markdown",
      "metadata": {
        "id": "zki2UoTd8vUR"
      },
      "source": [
        "Let's add a linear regression line."
      ]
    },
    {
      "cell_type": "code",
      "metadata": {
        "id": "WETBOzK48vUV"
      },
      "source": [
        "# smooth - lm\n",
        "gapminder %>%\n",
        "  filter(year == 2007) %>%\n",
        "  mutate(pop_m = pop / 1e6) %>%\n",
        "  ggplot(aes(x = gdpPercap, y = lifeExp)) +\n",
        "    geom_point(aes(size = pop_m, color = continent), alpha = 0.5) +\n",
        "    geom_smooth(method = \"lm\") +\n",
        "    geom_text_repel(\n",
        "      data = filter(gapminder, country == \"Canada\" & year == 2007),\n",
        "      aes(label = country),\n",
        "      nudge_x = log10(3),\n",
        "      nudge_y = -10) +\n",
        "    scale_x_continuous(labels = comma_format(), trans = 'log10') +\n",
        "    labs(title = 'Health & Wealth of Nations for 2007') +\n",
        "    labs(x = \"GDP per capita ($/year)\", y = \"Life expectancy (years)\") +\n",
        "    labs(color = \"Continent\", size = \"Population (M)\") +\n",
        "    theme(plot.title = element_text(hjust = 0.5))"
      ],
      "execution_count": null,
      "outputs": []
    },
    {
      "cell_type": "markdown",
      "metadata": {
        "id": "uH0HKyiY8vUf"
      },
      "source": [
        "What if we don't use log scale on x-axis and let ggplot fit a smooth curve for us?"
      ]
    },
    {
      "cell_type": "code",
      "metadata": {
        "id": "lmpA_IFf8vUg"
      },
      "source": [
        "# smooth - auto\n",
        "gapminder %>%\n",
        "  filter(year == 2007) %>%\n",
        "  mutate(pop_m = pop / 1e6) %>%\n",
        "  ggplot(aes(x = gdpPercap, y = lifeExp)) +\n",
        "    geom_point(aes(size = pop_m, color = continent), alpha = 0.5) +\n",
        "    geom_smooth(method = \"auto\") +\n",
        "    geom_text_repel(\n",
        "      data = filter(gapminder, country == \"Canada\" & year == 2007),\n",
        "      aes(label = country),\n",
        "      nudge_x = log10(3),\n",
        "      nudge_y = -10) +\n",
        "    scale_x_continuous(labels = comma_format()) +\n",
        "    labs(title = 'Health & Wealth of Nations for 2007') +\n",
        "    labs(x = \"GDP per capita ($/year)\", y = \"Life expectancy (years)\") +\n",
        "    labs(color = \"Continent\", size = \"Population (M)\") +\n",
        "    theme(plot.title = element_text(hjust = 0.5))"
      ],
      "execution_count": null,
      "outputs": []
    },
    {
      "cell_type": "markdown",
      "metadata": {
        "id": "ya3HVlm98vUk"
      },
      "source": [
        "Let's compare plots between 2002 and 2007 using faceting (`facet_grid`)."
      ]
    },
    {
      "cell_type": "code",
      "metadata": {
        "id": "lNTPI1CI8vUo"
      },
      "source": [
        "# smooth\n",
        "gapminder %>%\n",
        "  filter(year == 2007 | year == 2002) %>%\n",
        "  mutate(pop_m = pop / 1e6) %>%\n",
        "  ggplot(aes(x = gdpPercap, y = lifeExp)) +\n",
        "    geom_point(aes(size = pop_m, color = continent), alpha = 0.5) +\n",
        "    geom_smooth(method = \"auto\") +\n",
        "    scale_x_continuous(labels = comma_format()) +\n",
        "    labs(title = 'Health & Wealth of Nations for 2007') +\n",
        "    labs(x = \"GDP per capita ($/year)\", y = \"Life expectancy (years)\") +\n",
        "    labs(color = \"Continent\", size = \"Population (M)\") +\n",
        "    theme(plot.title = element_text(hjust = 0.5)) +\n",
        "    facet_grid(year~.)"
      ],
      "execution_count": null,
      "outputs": []
    },
    {
      "cell_type": "markdown",
      "metadata": {
        "id": "fv9LPQEm8vUu"
      },
      "source": [
        "## Exercise\n",
        "\n",
        "Take a look at the diamonds dataset. Produce a scatter plot with `price` (y) against `carat` (x) and color the dots by `clarity`. Fine tune the plots to make it as nice as you can."
      ]
    },
    {
      "cell_type": "code",
      "metadata": {
        "id": "j9uRuVTO8vUv"
      },
      "source": [
        "# take a look at the diamonds dataset\n",
        "head(diamonds)\n",
        "\n",
        "# your code below"
      ],
      "execution_count": null,
      "outputs": []
    },
    {
      "cell_type": "markdown",
      "metadata": {
        "id": "IIx4DcGg8vU0"
      },
      "source": [
        "By now, you should have a good understanding on how the layer-by-layer approach works in `ggplot()`. Obviously, there are a lot more to learn about `ggplot()`, but the approach is always the same so you can learn other plots easily by referring to the `ggplot()` [document](https://ggplot2.tidyverse.org/index.html)."
      ]
    },
    {
      "cell_type": "markdown",
      "source": [
        "# References\n",
        "\n",
        "1. [Visualization](https://r4ds.hadley.nz/visualize) Section in [R for Data Science (2ed)](https://r4ds.hadley.nz/)"
      ],
      "metadata": {
        "id": "R6O9k9-D7Ulf"
      }
    },
    {
      "cell_type": "code",
      "metadata": {
        "id": "Nt8SEV-3_Xqf"
      },
      "source": [],
      "execution_count": null,
      "outputs": []
    }
  ]
}