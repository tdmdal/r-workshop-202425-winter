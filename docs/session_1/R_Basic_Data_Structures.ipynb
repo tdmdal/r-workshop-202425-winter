{
  "nbformat": 4,
  "nbformat_minor": 0,
  "metadata": {
    "kernelspec": {
      "display_name": "R",
      "language": "R",
      "name": "ir"
    },
    "language_info": {
      "codemirror_mode": "r",
      "file_extension": ".r",
      "mimetype": "text/x-r-source",
      "name": "R",
      "pygments_lexer": "r",
      "version": "3.5.0"
    },
    "colab": {
      "provenance": [],
      "toc_visible": true
    }
  },
  "cells": [
    {
      "cell_type": "markdown",
      "source": [
        "# 0 Intro\n",
        "\n",
        "We started our R learning journey by working through the dice example together. Now you have some idea about R programming. Let's take a step back and examine formally some of the concepts we have learned so far. Along the way, we will also learn some new concepts.\n",
        "\n",
        "For this part, instead of RStudio, we will run R in a Notebook environment/setup. The Notebook setup allows you to write \"notes\" (using [Markdown](https://www.markdownguide.org/basic-syntax/)) and code (R code in our case) together. It's very useful for presentation or learning/teaching purpose.\n",
        "\n",
        "We are running our R notebook in the cloud using Google's Colab. Officially, Colab only supports Python notebook, but in fact you could run R notebook too as what we are doing now. Let's first check what version of R is installed in the Google Colab."
      ],
      "metadata": {
        "id": "W9A7xYFRsCfW"
      }
    },
    {
      "cell_type": "code",
      "source": [
        "version"
      ],
      "metadata": {
        "id": "5T0T8F6GrY-Y"
      },
      "execution_count": null,
      "outputs": []
    },
    {
      "cell_type": "markdown",
      "metadata": {
        "id": "KWNwTRVUioKv"
      },
      "source": [
        "# 1 Expression & Assignment\n",
        "\n",
        "You can write an expression and get a result immediately. Below we calculate $2 + \\sqrt{4} + ln(e^2) + 2^2$."
      ]
    },
    {
      "cell_type": "code",
      "metadata": {
        "id": "_Fb_txBt_y_J"
      },
      "source": [
        "# an expression\n",
        "2 + sqrt(4) + log(exp(2)) + 2^2"
      ],
      "execution_count": null,
      "outputs": []
    },
    {
      "cell_type": "markdown",
      "metadata": {
        "id": "XRny9zuzj5Gd"
      },
      "source": [
        "You could also assign an expression to a variable and then print out the variable."
      ]
    },
    {
      "cell_type": "code",
      "metadata": {
        "id": "V138ixeH_y_S"
      },
      "source": [
        "# assignment\n",
        "x <- (pi == 3.14)\n",
        "print(x)"
      ],
      "execution_count": null,
      "outputs": []
    },
    {
      "cell_type": "markdown",
      "metadata": {
        "id": "NigV52x_lGWt"
      },
      "source": [
        "`<-` is the assignment operator. `x` is a variable or R object. (You could replace `print(x)` with `x` to display the value of x, but I find 'print()' gives better output format.)\n",
        "\n",
        "The expression here is `(pi == 3.14)`. `pi` is a built-in constant with value `3.1415926535897931`. `==` is the \"equal to\" relational operator for value comparison. The expression evaluates to `TRUE` if `pi` is exactly equal to `3.14`, or `FALSE` otherwise.\n",
        "\n",
        "Aside: Why `\"<-\"` is the assignment operator, but not `\"=\"` like in most other programming languages? In fact, `\"=\"` is also an assignment operator in R, but it's slightly different from `\"<-\"`. If you want to know more about R's assignment operators, read [this stackoverflow post](https://stackoverflow.com/questions/1741820/what-are-the-differences-between-and-assignment-operators-in-r).\n",
        "\n",
        "### Exercise - 1 / 1\n",
        "\n",
        "Compare the built-in constant `pi` with `3.1415926535897931`. Are they equal?"
      ]
    },
    {
      "cell_type": "code",
      "source": [
        "# your code here\n",
        "\n",
        "\n"
      ],
      "metadata": {
        "id": "wcHkQ__D5Qwh"
      },
      "execution_count": null,
      "outputs": []
    },
    {
      "cell_type": "markdown",
      "source": [
        "### Exercise - 1 / 2\n",
        "\n",
        "Create your own pi approximation variable `my_pi` using the formula $\\pi=6\\arctan(\\frac{1}{\\sqrt{3}})$. Print out the value of `my_pi`. (Hint: Google \"R arctan\" to find out the R function that calculates arc-tangent.)"
      ],
      "metadata": {
        "id": "o2urtLqr6aT_"
      }
    },
    {
      "cell_type": "code",
      "source": [
        "# your code here\n",
        "\n",
        "\n"
      ],
      "metadata": {
        "id": "zsMA4QHr7Vv4"
      },
      "execution_count": null,
      "outputs": []
    },
    {
      "cell_type": "markdown",
      "source": [
        "# 2 Data Structure\n",
        "\n",
        "Data structures are about how you organize and store data. R's *basic* data structures can be summarized as below.\n",
        "\n",
        "| Dimension | Homogeneous   | Heterogeneous |\n",
        "|:---------:|:-------------:|:-------------:|\n",
        "| 1D        | Atomic vector | List          |\n",
        "| 2D        | Matrix        | Dataframe     |\n",
        "| nD        | Array         | -             |\n",
        "\n",
        "All elements in a homogeneous data structure (e.g., an atomic vector) must be the same type (integer, double, etc.). On the other hand, elements in a heterogeneous data structure can have different types."
      ],
      "metadata": {
        "id": "7ovsydXb4Hq1"
      }
    },
    {
      "cell_type": "markdown",
      "source": [
        "## 2.1 Atomic vector"
      ],
      "metadata": {
        "id": "gPs6e7dJVBvl"
      }
    },
    {
      "cell_type": "code",
      "metadata": {
        "id": "_2aBKG0B_y_X"
      },
      "source": [
        "# create R vectors\n",
        "vec_character <- c(\"Hello,\", \"World!\")\n",
        "vec_integer <- c(1L, 2L, 3L)\n",
        "vec_double <- c(1.1, 2.2, 3.3, -4.4)\n",
        "vec_logical <- c(TRUE, TRUE, FALSE)"
      ],
      "execution_count": null,
      "outputs": []
    },
    {
      "cell_type": "markdown",
      "metadata": {
        "id": "trQ2yZFNoePD"
      },
      "source": [
        "`c()` is a function in base R. It combines values into a vector.\n",
        "\n",
        "To check whether an objective/variable is an atomic vector, you can use the `is.vector()` function."
      ]
    },
    {
      "cell_type": "code",
      "source": [
        "# check if an object is an atomic vector\n",
        "is.vector(vec_integer)"
      ],
      "metadata": {
        "id": "6Xy_l7rdqqkJ"
      },
      "execution_count": null,
      "outputs": []
    },
    {
      "cell_type": "markdown",
      "source": [
        "The `typeof()` function shows the type of an object."
      ],
      "metadata": {
        "id": "vnrZ6XZLrypl"
      }
    },
    {
      "cell_type": "code",
      "source": [
        "# check the type of the object\n",
        "typeof(vec_integer)"
      ],
      "metadata": {
        "id": "kIq3HboJsAJJ"
      },
      "execution_count": null,
      "outputs": []
    },
    {
      "cell_type": "markdown",
      "source": [
        "Scalar and string in R are just correponding single element vectors."
      ],
      "metadata": {
        "id": "dwa5agK64TGV"
      }
    },
    {
      "cell_type": "code",
      "source": [
        "# scalar integer is the same as an integer vector with a single element\n",
        "is.vector(1L)\n",
        "typeof(1L)\n",
        "# identical() tests objects for exact equality\n",
        "identical(1L, c(1L))\n",
        "\n",
        "# scalar double is the same as a double vector with a single element\n",
        "is.vector(1.1)\n",
        "typeof(1.1)\n",
        "identical(1.1, c(1.1))\n",
        "\n",
        "# a string is the same as a string vector with a single element\n",
        "is.vector(\"hello\")\n",
        "typeof(\"hello\")\n",
        "identical(\"hello\", c(\"hello\"))"
      ],
      "metadata": {
        "id": "pdv0DpBG4bJ-"
      },
      "execution_count": null,
      "outputs": []
    },
    {
      "cell_type": "markdown",
      "metadata": {
        "id": "TQlbX7z_vPhb"
      },
      "source": [
        "`str()` is a handy function to display the structure of a vector (or any object in general)."
      ]
    },
    {
      "cell_type": "code",
      "metadata": {
        "id": "FnkVzQcTvkSz"
      },
      "source": [
        "# display structure of a vector\n",
        "str(vec_character)\n",
        "str(vec_integer)\n",
        "str(vec_double)\n",
        "str(vec_logical)"
      ],
      "execution_count": null,
      "outputs": []
    },
    {
      "cell_type": "markdown",
      "metadata": {
        "id": "2rZmimXMv_JY"
      },
      "source": [
        "`length()` is another useful function to tell you the length of a vector."
      ]
    },
    {
      "cell_type": "code",
      "metadata": {
        "id": "3QDzfvW0wIb9"
      },
      "source": [
        "# display length of a vector\n",
        "length(vec_double)"
      ],
      "execution_count": null,
      "outputs": []
    },
    {
      "cell_type": "markdown",
      "source": [
        "You can retrieve an element in a vector using `vec_name[]` with a numeric index. R's vector indexing starts with `1`."
      ],
      "metadata": {
        "id": "pWIRA6LQqo9F"
      }
    },
    {
      "cell_type": "code",
      "metadata": {
        "id": "ohlnFmav_6k0"
      },
      "source": [
        "# retrieve the first element of vec_double\n",
        "print(vec_double[1])"
      ],
      "execution_count": null,
      "outputs": []
    },
    {
      "cell_type": "markdown",
      "metadata": {
        "id": "F8inatT5poVK"
      },
      "source": [
        "Select/subset multiple elements in a vector is also easy."
      ]
    },
    {
      "cell_type": "code",
      "metadata": {
        "id": "L9nHLj68C9U4"
      },
      "source": [
        "# select/subset multiple elements\n",
        "print(vec_double[c(1, 3)])\n",
        "print(vec_double[1:2])\n",
        "print(vec_double[c(-1, -2)])\n",
        "print(vec_double[c(TRUE, FALSE, TRUE, FALSE)])\n",
        "print(vec_double[vec_double < 0])"
      ],
      "execution_count": null,
      "outputs": []
    },
    {
      "cell_type": "markdown",
      "metadata": {
        "id": "tQRrVibjr8rW"
      },
      "source": [
        "### Exercise - 2.1\n",
        "\n",
        "Define two vectors `(1, 2, -3)` and `(4, -5, -6)`. Perform an element-wise multiplication, and sum up the positive elements in the resulting vector. (Hint: 1. use operator `*` for element-wise multiplication; 2. use `sum()` function to sum up elements in a numeric vector.)"
      ]
    },
    {
      "cell_type": "code",
      "metadata": {
        "id": "9b4OtC34muGS"
      },
      "source": [
        "# your code playground here\n",
        "\n",
        "\n"
      ],
      "execution_count": null,
      "outputs": []
    },
    {
      "cell_type": "markdown",
      "metadata": {
        "id": "vsyeY9vQxMAE"
      },
      "source": [
        "## 2.2 List\n",
        "\n",
        "List is another kind of 1-dimension vector. It can contain different types of elements."
      ]
    },
    {
      "cell_type": "code",
      "metadata": {
        "id": "whXlXzX5FQnE"
      },
      "source": [
        "# create a list\n",
        "l1 <- list(\n",
        "  1:3,\n",
        "  \"a\",\n",
        "  c(TRUE, FALSE, TRUE),\n",
        "  c(2.3, 5.9),\n",
        "  c(1L, 2L)\n",
        ")\n",
        "\n",
        "# print the list\n",
        "print(l1)\n",
        "\n",
        "# print the structure of the list\n",
        "str(l1)"
      ],
      "execution_count": null,
      "outputs": []
    },
    {
      "cell_type": "markdown",
      "metadata": {
        "id": "jI-31hHM1sA8"
      },
      "source": [
        "List can contain list as well."
      ]
    },
    {
      "cell_type": "code",
      "metadata": {
        "id": "evZbiypPmtWh"
      },
      "source": [
        "# a nested list\n",
        "l2 <- list(list(list(1)))\n",
        "str(l2)"
      ],
      "execution_count": null,
      "outputs": []
    },
    {
      "cell_type": "markdown",
      "metadata": {
        "id": "JHobz5TH2P-h"
      },
      "source": [
        "Retrieving/subsetting elements in a list is similar as retrieving elements in a vector."
      ]
    },
    {
      "cell_type": "code",
      "metadata": {
        "id": "EDc6aVaPOaxN"
      },
      "source": [
        "# list subsetting\n",
        "str(l1)\n",
        "str(l1[1:2])\n",
        "str(l1[c(1, 3)])\n",
        "str(l1[c(-1, -2)])"
      ],
      "execution_count": null,
      "outputs": []
    },
    {
      "cell_type": "markdown",
      "metadata": {
        "id": "LGVqrmuF2D1L"
      },
      "source": [
        "Note that using `[]` always returns a list (i.e. it wraps the retrieved elements in a list). To return the element in a list as it is, use `[[]]`. `[[]]` only returns one single element, so usually you should only specify a single index."
      ]
    },
    {
      "cell_type": "code",
      "metadata": {
        "id": "rSuF3qfg19zP"
      },
      "source": [
        "# [] returns a list\n",
        "str(l1[1])"
      ],
      "execution_count": null,
      "outputs": []
    },
    {
      "cell_type": "code",
      "source": [
        "# [[]] returns an element as it is in a list\n",
        "# note that this element can still be a list (recall nested list)\n",
        "str(l1[[1]])"
      ],
      "metadata": {
        "id": "zOpwo7MTt9uV"
      },
      "execution_count": null,
      "outputs": []
    },
    {
      "cell_type": "markdown",
      "metadata": {
        "id": "efyFJjWU34ox"
      },
      "source": [
        "### Exercise - 2.2\n",
        "\n",
        "Retrieve the vector `(2.3, 5.9)` in the below list and sum up its elements."
      ]
    },
    {
      "cell_type": "code",
      "metadata": {
        "id": "0fYtZvj029oA"
      },
      "source": [
        "# define a list\n",
        "l_ex <- list(\n",
        "  1:3,\n",
        "  list(\n",
        "    \"abc\",\n",
        "    c(2.3, 5.9)\n",
        "  )\n",
        ")\n",
        "\n",
        "# your code below\n",
        "# this visualization may help\n",
        "# L-------------------+\n",
        "# | V---+---+---+     |\n",
        "# | | 1 | 2 | 3 |     |\n",
        "# | +---+---+---+     |\n",
        "# |                   |\n",
        "# | L---------------+ |\n",
        "# | | V-----+       | |\n",
        "# | | |\"abc\"|       | |\n",
        "# | | +-----+       | |\n",
        "# | | V-----+-----+ | |\n",
        "# | | | 2.3 | 5.9 | | |\n",
        "# | | +-----+-----+ | |\n",
        "# | +---------------+ |\n",
        "# +-------------------+\n",
        "\n",
        "\n"
      ],
      "execution_count": null,
      "outputs": []
    },
    {
      "cell_type": "markdown",
      "metadata": {
        "id": "qQ9o22z27x0u"
      },
      "source": [
        "## 2.3 Matrix (self-study section)\n",
        "\n",
        "\n",
        "Use `matrix()` function to create a matrix. Use `dim()` to find dimension of a matrix."
      ]
    },
    {
      "cell_type": "code",
      "metadata": {
        "id": "OdSCGeYh4ALY"
      },
      "source": [
        "# use the matrix() function to create a matrix\n",
        "y <- matrix(1:6, nrow = 2, ncol = 3)\n",
        "print(y)\n",
        "print(dim(y))"
      ],
      "execution_count": null,
      "outputs": []
    },
    {
      "cell_type": "markdown",
      "metadata": {
        "id": "ivk1HyYK8jAb"
      },
      "source": [
        "Subsetting a matrix is similar to subsetting a vector."
      ]
    },
    {
      "cell_type": "code",
      "metadata": {
        "id": "KALc4o447z7k"
      },
      "source": [
        "print(y[1:2, c(1,3)])\n",
        "print(y[1:2, -2])"
      ],
      "execution_count": null,
      "outputs": []
    },
    {
      "cell_type": "markdown",
      "metadata": {
        "id": "ht0dIq6h8xXk"
      },
      "source": [
        "Note that `[]` by default simplify the subsetting result to lowest possible dimension."
      ]
    },
    {
      "cell_type": "code",
      "metadata": {
        "id": "WDv1TE3E8l9O"
      },
      "source": [
        "# y[1, 1:2] gives a vector\n",
        "str(y[1, 1:2])"
      ],
      "execution_count": null,
      "outputs": []
    },
    {
      "cell_type": "markdown",
      "metadata": {
        "id": "mLrOU2PA9H5I"
      },
      "source": [
        "Matrix algebra is easy. See here for a list of R matrix operations, https://www.statmethods.net/advstats/matrix.html."
      ]
    },
    {
      "cell_type": "code",
      "metadata": {
        "id": "fI4QLZuu88ve"
      },
      "source": [
        "# define two matrics\n",
        "m1 <- matrix(1:4, nrow = 2)\n",
        "m2 <- matrix(5:8, nrow = 2)\n",
        "print(m1)\n",
        "print(m2)\n",
        "\n",
        "# element-wise multiplication\n",
        "print(m1 * m2)\n",
        "\n",
        "# matrix multiplication\n",
        "print(m1 %*% m2)\n",
        "\n",
        "# transpose\n",
        "print(t(m1))\n",
        "\n",
        "# solve Ax = b problem\n",
        "b <- matrix(7:8, nrow = 2)\n",
        "print(b)\n",
        "print(solve(m1, b))"
      ],
      "execution_count": null,
      "outputs": []
    },
    {
      "cell_type": "markdown",
      "metadata": {
        "id": "Mxpugw9l-SPn"
      },
      "source": [
        "## 2.4 Data frame\n",
        "\n",
        "A data frame is like a 2-D table in an Excel sheet. Data are organized in columns and rows. Each column is identified by a column name (in the column header row). Formally, you can think of data frame as a named list of equal-length atomic vectors (where each vector is a column), and plus a few extra attributes. (Let's not get into attributes of a data structure today.)\n"
      ]
    },
    {
      "cell_type": "code",
      "metadata": {
        "id": "BHnfAa7z9SDu"
      },
      "source": [
        "# create a data frame\n",
        "df1 <- data.frame(\n",
        "  x = 1:3,\n",
        "  y = c(\"a\", \"a\", \"b\"),\n",
        "  z = c(1.1, 2.2, 3.3)\n",
        ")\n",
        "\n",
        "print(df1)"
      ],
      "execution_count": null,
      "outputs": []
    },
    {
      "cell_type": "code",
      "metadata": {
        "id": "Ov-vUMDT_96M"
      },
      "source": [
        "# check the structure of a data frame\n",
        "str(df1)"
      ],
      "execution_count": null,
      "outputs": []
    },
    {
      "cell_type": "code",
      "source": [
        "# check a data frame's attributes\n",
        "print(attributes(df1))"
      ],
      "metadata": {
        "id": "CIUbW19D5Sw1"
      },
      "execution_count": null,
      "outputs": []
    },
    {
      "cell_type": "markdown",
      "source": [
        "You can select a column in a data frame using `df_name$col_name` or `df_name[\"col_name\"]`."
      ],
      "metadata": {
        "id": "m9wyH6ednefp"
      }
    },
    {
      "cell_type": "code",
      "source": [
        "print(df1$x)\n",
        "print(df1[\"x\"])"
      ],
      "metadata": {
        "id": "chY0RZ3poooL"
      },
      "execution_count": null,
      "outputs": []
    },
    {
      "cell_type": "markdown",
      "source": [
        "However, note that `df_name$col_name` returns the column as a vector and `df_name[\"col_name\"]` returns a data frame with the selected column. (`df_name[[\"col_name\"]]` returns a vector. Recall `[]` vs `[[]]`  )"
      ],
      "metadata": {
        "id": "BS30_orXpTex"
      }
    },
    {
      "cell_type": "code",
      "source": [
        "str(df1$x)"
      ],
      "metadata": {
        "id": "XNZLJ31hpW1c"
      },
      "execution_count": null,
      "outputs": []
    },
    {
      "cell_type": "code",
      "source": [
        "str(df1[\"x\"])"
      ],
      "metadata": {
        "id": "qE4EVnhtp14L"
      },
      "execution_count": null,
      "outputs": []
    },
    {
      "cell_type": "code",
      "source": [
        "# df_name[[\"col_name\"]] will instead return a vector too\n",
        "str(df1[[\"x\"]])"
      ],
      "metadata": {
        "id": "UAjCcYsAp4MA"
      },
      "execution_count": null,
      "outputs": []
    },
    {
      "cell_type": "markdown",
      "metadata": {
        "id": "gCokeogKC38l"
      },
      "source": [
        "Select multiple columns in a dataframe can be done as fellow."
      ]
    },
    {
      "cell_type": "code",
      "source": [
        "# select 'x' and 'z' columns\n",
        "print(df1[c('x', 'z')])\n",
        "\n",
        "# select row 1 and 2, and 'x' and 'z' columns\n",
        "print(df1[1:2, c('x', 'z')])"
      ],
      "metadata": {
        "id": "u4YwYokq19zF"
      },
      "execution_count": null,
      "outputs": []
    },
    {
      "cell_type": "markdown",
      "metadata": {
        "id": "K9ru0FgyAigO"
      },
      "source": [
        "In a data frame, certain columns can contain categorical information, for example, an indicator column with `0` and `1` values, or `\"male\"` and `\"female\"`. For modeling purpose, you can turn those columns into factors. Factors are R's way of storing categorical information. When you build a model using a data frame with factor columns, the model will take the categorical information into account."
      ]
    },
    {
      "cell_type": "code",
      "source": [
        "# as.factor() turns a character vector into factor\n",
        "df1$y <- as.factor(df1$y)\n",
        "str(df1)"
      ],
      "metadata": {
        "id": "JN4oV8vgnWiU"
      },
      "execution_count": null,
      "outputs": []
    },
    {
      "cell_type": "markdown",
      "source": [
        "Factors are in fact integer vectors with a few extra attributes."
      ],
      "metadata": {
        "id": "2flgH0RlxGpv"
      }
    },
    {
      "cell_type": "code",
      "source": [
        "gender <- factor(c(\"male\", \"female\", \"female\", \"male\"))\n",
        "print(typeof(gender))"
      ],
      "metadata": {
        "id": "yACyMskExGEo"
      },
      "execution_count": null,
      "outputs": []
    },
    {
      "cell_type": "code",
      "source": [
        "print(attributes(gender))"
      ],
      "metadata": {
        "id": "Zl4naVvfxWbC"
      },
      "execution_count": null,
      "outputs": []
    },
    {
      "cell_type": "markdown",
      "source": [
        "When you create a data frame using the `data.frame()` function, you can optionally turn character columns into factor columns using the `stringsAsFactors = TRUE` argument. (`stringsAsFactors = TRUE` is the default setting before R 4.0. Since R 4.0, `stringsAsFactors = FALSE` is the default.)"
      ],
      "metadata": {
        "id": "G-e9IBlKnXtd"
      }
    },
    {
      "cell_type": "code",
      "metadata": {
        "id": "wYglo3K8ALoy"
      },
      "source": [
        "# use 'stringsAsFactors = FALSE' to keep strings as they are\n",
        "df2 <- data.frame(\n",
        "  x = 1:3,\n",
        "  y = c(\"a\", \"a\", \"c\"),\n",
        "  stringsAsFactors = TRUE\n",
        ")\n",
        "str(df2)"
      ],
      "execution_count": null,
      "outputs": []
    },
    {
      "cell_type": "markdown",
      "metadata": {
        "id": "nGi5BPC_CDHc"
      },
      "source": [
        "It's often useful to find out column names and number of columns and rows."
      ]
    },
    {
      "cell_type": "code",
      "metadata": {
        "id": "_IP6t06PAhfS"
      },
      "source": [
        "# find out column names using names() or colnames()\n",
        "print(names(df1))\n",
        "print(colnames(df1))\n",
        "\n",
        "# find out number of columns using length() or ncol()\n",
        "print(length(df1))\n",
        "print(ncol(df1))\n",
        "\n",
        "# find out number of rows\n",
        "print(nrow(df1))"
      ],
      "execution_count": null,
      "outputs": []
    },
    {
      "cell_type": "markdown",
      "source": [
        "You can create a new column based on formula/expression of other columns."
      ],
      "metadata": {
        "id": "Udha1bibu7Ji"
      }
    },
    {
      "cell_type": "code",
      "source": [
        "print(df1)\n",
        "\n",
        "# create a column x_square\n",
        "df1[\"x_square\"] <- df1[\"x\"]^2\n",
        "print(df1)\n",
        "\n",
        "# create a column x_cube\n",
        "df1$x_cube <- df1$x ^ 3\n",
        "print(df1)"
      ],
      "metadata": {
        "id": "HmrMPsc_vYCU"
      },
      "execution_count": null,
      "outputs": []
    },
    {
      "cell_type": "markdown",
      "source": [
        "You can subset/filter rows based on row index."
      ],
      "metadata": {
        "id": "rYFjUEae_5hW"
      }
    },
    {
      "cell_type": "code",
      "source": [
        "print(df1)\n",
        "\n",
        "# first row\n",
        "print(df1[1, ])\n",
        "\n",
        "# second row to the end\n",
        "print(df1[2:nrow(df1), , ])\n",
        "\n",
        "# all rows except the second\n",
        "print(df1[-2, ])\n",
        "\n",
        "# all rows except the first and the third\n",
        "print(df1[-c(1, 3), ])\n",
        "\n",
        "# randomly select 2 rows\n",
        "row_sample <- sample(nrow(df1), 2)\n",
        "print(df1[row_sample, ])"
      ],
      "metadata": {
        "id": "VNZwEeDc__Jm"
      },
      "execution_count": null,
      "outputs": []
    },
    {
      "cell_type": "markdown",
      "source": [
        "You can subset/filter rows based on conditions. You can do it in many ways. I will show you a few below."
      ],
      "metadata": {
        "id": "wRANZuozvsOr"
      }
    },
    {
      "cell_type": "code",
      "source": [
        "print(df1)\n",
        "\n",
        "# df_name[row_cond, col, drop = FALSE]\n",
        "df1_new <- df1[(df1$x_square >= 4 & df1$x_cube < 20), ,]\n",
        "print(df1_new)\n",
        "\n",
        "# no change in df1\n",
        "print(df1)"
      ],
      "metadata": {
        "id": "6O4mXuL3vqYW"
      },
      "execution_count": null,
      "outputs": []
    },
    {
      "cell_type": "code",
      "source": [
        "print(df1)\n",
        "\n",
        "# df_name[row_cond, col, drop = FALSE]\n",
        "df1_new <- df1[(df1$x_square >= 4 & df1$x_cube < 20), ,drop = FALSE]\n",
        "print(df1_new)\n",
        "\n",
        "# no change in df1\n",
        "print(df1)"
      ],
      "metadata": {
        "id": "iPQ-asqAQ3vH"
      },
      "execution_count": null,
      "outputs": []
    },
    {
      "cell_type": "code",
      "source": [
        "print(df1)\n",
        "\n",
        "# df_name[which(row_cond), col, drop = FALSE]\n",
        "df1_new <- df1[which(df1$x_square >= 4 & df1$x_cube < 20), ,drop = FALSE]\n",
        "print(df1_new)\n",
        "\n",
        "# no change in df1\n",
        "print(df1)"
      ],
      "metadata": {
        "id": "J7wfHqedRN-N"
      },
      "execution_count": null,
      "outputs": []
    },
    {
      "cell_type": "code",
      "source": [
        "print(df1)\n",
        "\n",
        "# subset(df, row_cond, select = col_vec)\n",
        "df1_new <- subset(df1, x_square >= 4 & x_cube < 20, select = c(x, y, z))\n",
        "print(df1_new)\n",
        "\n",
        "# no change in df1\n",
        "print(df1)"
      ],
      "metadata": {
        "id": "WHlrV4aHSw10"
      },
      "execution_count": null,
      "outputs": []
    },
    {
      "cell_type": "markdown",
      "source": [
        "Data frame is perhaps the most important data structure in R. That's because tabular data are the most common type of data (columns & rows). We will learn much more about it later.\n",
        "\n",
        "### Exercise - 2.4\n",
        "\n",
        "Given the dataframe `df3` below, create a new column `xz` as `x * z`. Subset/Filter the new dataframe such that all values in column `xz` are greater than 5."
      ],
      "metadata": {
        "id": "UT7g44Ii2nKF"
      }
    },
    {
      "cell_type": "code",
      "source": [
        "# create a data frame\n",
        "df3 <- data.frame(\n",
        "  x = 1:3,\n",
        "  y = c(\"a\", \"a\", \"b\"),\n",
        "  z = c(1.1, 2.2, 3.3)\n",
        ")\n",
        "\n",
        "print(df3)\n",
        "\n",
        "# your code below\n",
        "\n",
        "\n"
      ],
      "metadata": {
        "id": "VpWGz9nmOWfB"
      },
      "execution_count": null,
      "outputs": []
    }
  ]
}