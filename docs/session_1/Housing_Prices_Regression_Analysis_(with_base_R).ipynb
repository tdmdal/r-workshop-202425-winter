{
  "nbformat": 4,
  "nbformat_minor": 0,
  "metadata": {
    "kernelspec": {
      "display_name": "R",
      "language": "R",
      "name": "ir"
    },
    "language_info": {
      "codemirror_mode": "r",
      "file_extension": ".r",
      "mimetype": "text/x-r-source",
      "name": "R",
      "pygments_lexer": "r",
      "version": "3.5.0"
    },
    "colab": {
      "provenance": [],
      "collapsed_sections": []
    }
  },
  "cells": [
    {
      "cell_type": "markdown",
      "metadata": {
        "id": "a9851aPLtFxK"
      },
      "source": [
        "# 1 Data Import and Manipulation\n",
        "\n",
        "We first import a dataset from a Github repo of our lab. This is a dataset on housing prices and air pollution in [Harrison & Rubinfeld (1978)](https://www.sciencedirect.com/science/article/pii/0095069678900062). The dataset is also used throughout an undergraduate econometrics text book by Wooldridge: *Introductory Econometrics: A Modern Approach*. (There is a R package ([wooldridge](https://justinmshea.github.io/wooldridge/index.html)) that collects all the datasets used in that book.)\n",
        "\n",
        "After briefly inspecting the data, we prepare the dataset for modeling. We then conduct some linear regression analysis."
      ]
    },
    {
      "cell_type": "markdown",
      "source": [
        "## 1.1 Data Import"
      ],
      "metadata": {
        "id": "T493aL1vwbTD"
      }
    },
    {
      "cell_type": "code",
      "metadata": {
        "id": "_Fb_txBt_y_J"
      },
      "source": [
        "# load data\n",
        "data_url <- \"https://github.com/tdmdal/datasets-teaching/raw/main/hprice/hprice.csv\"\n",
        "hprice <- read.csv(data_url)"
      ],
      "execution_count": null,
      "outputs": []
    },
    {
      "cell_type": "markdown",
      "source": [
        "## 1.2 Quick Inspection\n",
        "\n",
        "Let's quickly inspect the data. By no means the data exploration done here is complete and thorough."
      ],
      "metadata": {
        "id": "GYCHmtXcwl85"
      }
    },
    {
      "cell_type": "code",
      "metadata": {
        "id": "V138ixeH_y_S"
      },
      "source": [
        "# take a look at the structure of the data\n",
        "str(hprice)"
      ],
      "execution_count": null,
      "outputs": []
    },
    {
      "cell_type": "markdown",
      "metadata": {
        "id": "vZqiTW3388-G"
      },
      "source": [
        "Data Dictionary ([Source](http://fmwww.bc.edu/ec-p/data/wooldridge/hprice2.des))\n",
        "\n",
        "| Variable    | Description                         |\n",
        "|-------------|-------------------------------------|\n",
        "| 1. price    | median housing price, \\$            |\n",
        "| 2. crime    | crimes committed per capita         |\n",
        "| 3. nox      | nitrous oxide, parts per 100 mill.  |\n",
        "| 4. rooms    | avg number of rooms per house       |\n",
        "| 5. dist     | weighted dist. to 5 employ centers  |\n",
        "| 6. radial   | accessibiliy index to radial hghwys |\n",
        "| 7. proptax  | property tax per $1000              |\n",
        "| 8. stratio  | average student-teacher ratio       |\n",
        "| 9. lowstat  | % of people 'lower status'          |\n",
        "\n"
      ]
    },
    {
      "cell_type": "code",
      "metadata": {
        "id": "_2aBKG0B_y_X"
      },
      "source": [
        "# print the first few rows of the dataset\n",
        "head(hprice)"
      ],
      "execution_count": null,
      "outputs": []
    },
    {
      "cell_type": "code",
      "source": [
        "# summary statist\n",
        "summary(hprice)"
      ],
      "metadata": {
        "id": "DaPYfs65Yucm"
      },
      "execution_count": null,
      "outputs": []
    },
    {
      "cell_type": "markdown",
      "source": [
        "Let's focus on `price`, `nox`, `rooms` and `stratio` for this analysis."
      ],
      "metadata": {
        "id": "dBZGPqL8-T4q"
      }
    },
    {
      "cell_type": "code",
      "source": [
        "# pairwise scatter plot\n",
        "pairs(hprice[c(\"price\", \"nox\", \"rooms\", \"stratio\")])"
      ],
      "metadata": {
        "id": "r-HuQcu3x_5B"
      },
      "execution_count": null,
      "outputs": []
    },
    {
      "cell_type": "code",
      "source": [
        "# correlation matrix\n",
        "cor(hprice[c(\"price\", \"nox\", \"rooms\", \"stratio\")])"
      ],
      "metadata": {
        "id": "gpTu_VpXyRX8"
      },
      "execution_count": null,
      "outputs": []
    },
    {
      "cell_type": "code",
      "source": [
        "# histogram and boxplot for price and log price\n",
        "par(mfrow=c(2,2))\n",
        "hist(hprice$price, main = \"Histogram of price\")\n",
        "hist(log(hprice$price), main = \"Histogram of log price\")\n",
        "boxplot(hprice$price)\n",
        "boxplot(log(hprice$price))"
      ],
      "metadata": {
        "id": "VnGRcKUYxQkX"
      },
      "execution_count": null,
      "outputs": []
    },
    {
      "cell_type": "code",
      "source": [
        "# histogram and boxplot for nox and log nox\n",
        "par(mfrow=c(2,2))\n",
        "hist(hprice$nox)\n",
        "hist(log(hprice$nox))\n",
        "boxplot(hprice$nox)\n",
        "boxplot(log(hprice$nox))"
      ],
      "metadata": {
        "id": "QqFkTOSb_-Tu"
      },
      "execution_count": null,
      "outputs": []
    },
    {
      "cell_type": "markdown",
      "source": [
        "## 1.3 Data Manipulation (Preparation for Modeling)"
      ],
      "metadata": {
        "id": "d2LsD453w6em"
      }
    },
    {
      "cell_type": "code",
      "source": [
        "# get rid of price outliners (outside 5th to 95th percentile)\n",
        "hprice_reg <- hprice[which(hprice$price < quantile(hprice$price, 0.95) & hprice$price > quantile(hprice$price, 0.05)), , drop = FALSE]\n",
        "str(hprice_reg)"
      ],
      "metadata": {
        "id": "yxTS0ZrKCrPb"
      },
      "execution_count": null,
      "outputs": []
    },
    {
      "cell_type": "code",
      "metadata": {
        "id": "ohlnFmav_6k0"
      },
      "source": [
        "# create log price and log nox\n",
        "hprice_reg[\"lprice\"] <- log(hprice_reg[\"price\"])\n",
        "hprice_reg[\"lnox\"] <- log(hprice_reg[\"nox\"])"
      ],
      "execution_count": null,
      "outputs": []
    },
    {
      "cell_type": "markdown",
      "metadata": {
        "id": "iltXOxDyt8uD"
      },
      "source": [
        "# 2 Modelling\n",
        "\n",
        "We will start by runing a simple regression to investigate the effect of air pollution on housing price.\n",
        "\n",
        "$log(price) = \\beta_0 + \\beta_1log(nox) + u$."
      ]
    },
    {
      "cell_type": "code",
      "metadata": {
        "id": "L9nHLj68C9U4"
      },
      "source": [
        "# setup a simple regression model\n",
        "lr <- lm(formula = lprice ~ lnox, data = hprice_reg)"
      ],
      "execution_count": null,
      "outputs": []
    },
    {
      "cell_type": "markdown",
      "source": [
        "Let's run a mulitple regression to investigate the effect of air pollution on housing price, but this time we control for rooms (and rooms squared) and student-teacher ratio.\n",
        "\n",
        "$log(price) = \\beta_0 + \\beta_1log(nox) + \\beta_2rooms + \\beta_2rooms^2 + \\beta_4stratio + u$."
      ],
      "metadata": {
        "id": "1GD7TsesGCBj"
      }
    },
    {
      "cell_type": "code",
      "source": [
        "lr_multiple <- lm(lprice ~ lnox + rooms + I(rooms^2) + stratio, data = hprice_reg)"
      ],
      "metadata": {
        "id": "MMYCplqJF0hZ"
      },
      "execution_count": null,
      "outputs": []
    },
    {
      "cell_type": "markdown",
      "metadata": {
        "id": "jpTzhDU8uNEc"
      },
      "source": [
        "# 3 Report & Graph\n",
        "\n",
        "We report the regression result, and plot a few graphs."
      ]
    },
    {
      "cell_type": "markdown",
      "source": [
        "## 3.1 Report"
      ],
      "metadata": {
        "id": "2rWpvp3HMHRl"
      }
    },
    {
      "cell_type": "code",
      "metadata": {
        "id": "9b4OtC34muGS"
      },
      "source": [
        "# report the simple regression result\n",
        "summary(lr)"
      ],
      "execution_count": null,
      "outputs": []
    },
    {
      "cell_type": "code",
      "source": [
        "# report the multiple regression result\n",
        "summary(lr_multiple)"
      ],
      "metadata": {
        "id": "cAaKq5BhL8PN"
      },
      "execution_count": null,
      "outputs": []
    },
    {
      "cell_type": "markdown",
      "source": [
        "## 3.2 Graphs"
      ],
      "metadata": {
        "id": "gpiPiyrdMKKK"
      }
    },
    {
      "cell_type": "code",
      "metadata": {
        "id": "whXlXzX5FQnE"
      },
      "source": [
        "# plot data and regression line for the simple regression\n",
        "par(mfrow = c(1, 1))\n",
        "plot(hprice_reg[c(\"lnox\", \"lprice\")])\n",
        "abline(coef(lr))"
      ],
      "execution_count": null,
      "outputs": []
    },
    {
      "cell_type": "markdown",
      "source": [
        "Plot a few diagnositic plots. See [here](https://data.library.virginia.edu/diagnostic-plots/) for what they are for."
      ],
      "metadata": {
        "id": "_32chrvnQqie"
      }
    },
    {
      "cell_type": "code",
      "metadata": {
        "id": "evZbiypPmtWh"
      },
      "source": [
        "# plot a few post regression Diagnostic Plots for the simple regression\n",
        "par(mfrow = c(2, 2))\n",
        "plot(lr)"
      ],
      "execution_count": null,
      "outputs": []
    },
    {
      "cell_type": "code",
      "metadata": {
        "id": "EDc6aVaPOaxN"
      },
      "source": [
        "# plot a few post regression Diagnostic Plots for the mulitple regression\n",
        "par(mfrow = c(2, 2))\n",
        "plot(lr_multiple)"
      ],
      "execution_count": null,
      "outputs": []
    },
    {
      "cell_type": "code",
      "source": [],
      "metadata": {
        "id": "LdgX_lfgJ2W2"
      },
      "execution_count": null,
      "outputs": []
    }
  ]
}