{
  "nbformat": 4,
  "nbformat_minor": 0,
  "metadata": {
    "kernelspec": {
      "display_name": "R",
      "language": "R",
      "name": "ir"
    },
    "language_info": {
      "codemirror_mode": "r",
      "file_extension": ".r",
      "mimetype": "text/x-r-source",
      "name": "R",
      "pygments_lexer": "r",
      "version": "3.5.0"
    },
    "colab": {
      "provenance": [],
      "toc_visible": true
    }
  },
  "cells": [
    {
      "cell_type": "markdown",
      "metadata": {
        "id": "0jznnJ7bIFNw"
      },
      "source": [
        "# 3 Programming Structure\n",
        "\n"
      ]
    },
    {
      "cell_type": "markdown",
      "source": [
        "## 3.1 Three basic control flows"
      ],
      "metadata": {
        "id": "8WpsOAJkXasK"
      }
    },
    {
      "cell_type": "markdown",
      "source": [
        "### 3.1.1 Sequence\n",
        "\n",
        "Code runs line by line in sequence with no conditional executions or loops. For example, let's write some code to calculate the following sum of squares.\n",
        "\n",
        "$$y = \\sum_{t=1}^{3} t^2.$$"
      ],
      "metadata": {
        "id": "_FNrXM7kXnhp"
      }
    },
    {
      "cell_type": "code",
      "metadata": {
        "id": "Fny7lInQHD-L"
      },
      "source": [
        "# sum of squares\n",
        "t <- 1:3\n",
        "y <- sum(t^2)\n",
        "print(y)"
      ],
      "execution_count": null,
      "outputs": []
    },
    {
      "cell_type": "markdown",
      "metadata": {
        "id": "tO0L5S-RKQf5"
      },
      "source": [
        "###3.1.2 Selection / Conditional execution\n",
        "\n",
        "```\n",
        "# if, else\n",
        "if (condition) {\n",
        "  # code executed when condition is TRUE\n",
        "} else {\n",
        "  # code executed when condition is FALSE\n",
        "}\n",
        "```\n",
        "\n",
        "```\n",
        "# if, else if, else\n",
        "if (condition1) {\n",
        "  # do something when condition1 is TRUE\n",
        "} else if (conditon2) {\n",
        "  # do something else if condition1 is FALSE but condition2 is TRUE\n",
        "} else {\n",
        "  # do something if neither condition1 nor condition2 is TRUE\n",
        "}\n",
        "```\n",
        "\n",
        "For example, if the above sum of squares `y > 10` then print out \"result greater than 10\", or otherwise print out \"result less or equal to 10\"."
      ]
    },
    {
      "cell_type": "code",
      "metadata": {
        "id": "B5go6C6mJ9Q6"
      },
      "source": [
        "# sum of squares\n",
        "t <- 1:3\n",
        "y <- sum(t^2)\n",
        "\n",
        "# report whether result is greater than 10\n",
        "if (y > 10) {\n",
        "  print(\"result greater than 10\")\n",
        "} else {\n",
        "  print(\"result less or equal to 10\")\n",
        "}"
      ],
      "execution_count": null,
      "outputs": []
    },
    {
      "cell_type": "markdown",
      "metadata": {
        "id": "MrCK1-6iLAGw"
      },
      "source": [
        "### 3.1.3 Iteration\n",
        "\n",
        "```\n",
        "# for loop\n",
        "for (var in seq) {\n",
        "  do something\n",
        "}\n",
        "```\n",
        "\n",
        "```\n",
        "# while loop\n",
        "while (condition) {\n",
        "  do something if condition is TRUE\n",
        "}\n",
        "```\n",
        "\n",
        "For example, let's solve the above sum of squares using a loop."
      ]
    },
    {
      "cell_type": "code",
      "metadata": {
        "id": "fn9BKoYIK64M"
      },
      "source": [
        "t <- 1:3\n",
        "y <- 0\n",
        "\n",
        "for (x in t) {\n",
        "  y <- y + x^2\n",
        "}\n",
        "\n",
        "print(y)\n"
      ],
      "execution_count": null,
      "outputs": []
    },
    {
      "cell_type": "markdown",
      "metadata": {
        "id": "L0dyu9ONMbKr"
      },
      "source": [
        "#### Exercise - 3.1.3\n",
        "\n",
        "Calculate the above sum using a while loop."
      ]
    },
    {
      "cell_type": "code",
      "metadata": {
        "id": "TIsqvN6hMLEz"
      },
      "source": [
        "# your code goes here\n",
        "\n",
        "\n"
      ],
      "execution_count": null,
      "outputs": []
    },
    {
      "cell_type": "markdown",
      "metadata": {
        "id": "-wi8_fs0M2fj"
      },
      "source": [
        "##3.2 Functions\n",
        "\n",
        "A function is a unit of code block that (usually) takes in some inputs (arguments) and returns a result. We have already used many R functions, for example, `print()` and `length()`.\n",
        "\n",
        "The two main reasons to write functions are *reusability* and *abstraction*. If you find yourself repeating the same code logic or if you want to divide a large piece of code into small logical units, you should consider writing functions.\n",
        "\n",
        "In fact, \"...everything that happens [in R] is a function call.\" (John Chambers, the creator of the S programming language and a core member of the R project. R is modelled after S.) For example, even the plus operation \"`+`\" is a function. (Try `` `+`(2, 3)`` in R.)\n",
        "\n",
        "Let's write a slightly general version of sum of squares using a function.\n",
        "\n",
        "$$y = \\sum_{t=1}^{n} t^2.$$\n",
        "\n",
        "This function takes in 1 argument `n`, and return the sum `y` defined above."
      ]
    },
    {
      "cell_type": "code",
      "metadata": {
        "id": "i-UmaUXzMjxt"
      },
      "source": [
        "ss <- function(n) {\n",
        "  t <- 1:n\n",
        "  \n",
        "  # the last expression is automatically returned\n",
        "  # or otherwise, you could write return(sum(t^2))\n",
        "  sum(t^2)\n",
        "}\n",
        "\n",
        "print(ss(2))\n",
        "print(ss(3))"
      ],
      "execution_count": null,
      "outputs": []
    },
    {
      "cell_type": "markdown",
      "source": [
        "### Exercise - 3.2 / 1\n",
        "\n",
        "Suppose you can get $1M bonus at year end for the next `n` years, and the annual interest rate is `r`. (We fix the interest rate for convenience.) To calculate the present value (PV) of this fortune, we can use the following formula. \n",
        "\n",
        "$$PV = \\sum_{t=1}^{n} \\frac{1}{(1 + r)^t}.$$\n",
        "\n",
        "Write a function to calculate the above. Take `n` and `r` as input arguments."
      ],
      "metadata": {
        "id": "Kb7Gaeeg9HNb"
      }
    },
    {
      "cell_type": "code",
      "source": [
        "# your code here\n",
        "pv_calcu <- function(n, r) {\n",
        "\n",
        "  # insert your code below\n",
        "\n",
        "}\n"
      ],
      "metadata": {
        "id": "ccVrWkleB-Pd"
      },
      "execution_count": null,
      "outputs": []
    },
    {
      "cell_type": "markdown",
      "metadata": {
        "id": "sGGZO1W0PeAz"
      },
      "source": [
        "### Exercise - 3.2 / 2 (take home)\n",
        "\n",
        "Write an R function to calculate $$y = \\sum_{t=1}^{n} f(t),$$ where $n$ is an integer and $f()$ is a generic function that you can define later (e.g. $f(t) = t ^ 2$ or $f(t) = t ^ 3$). The R function takes in two argument, `n` and `f` as in the above formula, and returns the sum $y$."
      ]
    },
    {
      "cell_type": "code",
      "metadata": {
        "id": "nTwPOHKYR_8x"
      },
      "source": [
        "# your code here\n",
        "\n",
        "f_sum <- function(f, n) {\n",
        "\n",
        "  # insert your code below\n",
        "  \n",
        "  return(y)\n",
        "}"
      ],
      "execution_count": null,
      "outputs": []
    },
    {
      "cell_type": "code",
      "metadata": {
        "id": "3ZLf8n5pMB5l"
      },
      "source": [
        "# if your code works as intended, the following should run\n",
        "\n",
        "# define t squared as f1\n",
        "f1 <- function(t) {\n",
        "  t^2\n",
        "}\n",
        "\n",
        "print(f_sum(f1, 3L))\n",
        "\n",
        "# let's calculate pi\n",
        "# calculate pi using the pi formula\n",
        "f_pi <- function(x) {\n",
        "  4 * (-1) ^ (x + 1) / (2 * x - 1)\n",
        "}\n",
        "\n",
        "print(f_sum(f_pi, 10000L))"
      ],
      "execution_count": null,
      "outputs": []
    }
  ]
}